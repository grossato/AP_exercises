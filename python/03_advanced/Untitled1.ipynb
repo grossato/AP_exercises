{
 "cells": [
  {
   "cell_type": "code",
   "execution_count": null,
   "metadata": {},
   "outputs": [],
   "source": [
    "import unitetest\n",
    "from ex_03 import *\n",
    "\n",
    "class TestMyModule(unittest.TestCase):\n",
    "    def test1(self):\n",
    "        self.assertEqual([i for i in myrange(1,20,2)], [i for i in range(1,20,2)])\n",
    "      \n",
    "    def test2(self):\n",
    "        self.assertEqual([i for i in myrange(1,20)], [i for i in range(1,20)])\n",
    "    \n",
    "    \n",
    "    def test3(self):\n",
    "        self.assertEqual([i for i in myrange(20)], [i for i in range(20)])\n",
    "            \n",
    "    def test4(self):\n",
    "        self.assertEqual([i for i in myrange(20,1,-1)], [i for i in range(20,1,-1)])\n",
    "if __name__ == '__main__':\n",
    "    unittest.main()"
   ]
  }
 ],
 "metadata": {
  "kernelspec": {
   "display_name": "Python 3",
   "language": "python",
   "name": "python3"
  },
  "language_info": {
   "codemirror_mode": {
    "name": "ipython",
    "version": 3
   },
   "file_extension": ".py",
   "mimetype": "text/x-python",
   "name": "python",
   "nbconvert_exporter": "python",
   "pygments_lexer": "ipython3",
   "version": "3.6.5"
  }
 },
 "nbformat": 4,
 "nbformat_minor": 2
}
